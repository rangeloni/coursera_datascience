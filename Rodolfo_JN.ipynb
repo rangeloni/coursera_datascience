{
 "cells": [
  {
   "cell_type": "markdown",
   "metadata": {},
   "source": [
    "# My Jupyter Notebook on IBM Data Science Experience  \n",
    "---"
   ]
  },
  {
   "cell_type": "markdown",
   "metadata": {},
   "source": [
    "\n",
    "**Rodolfo Angeloni**  \n",
    "Astrophysicist"
   ]
  },
  {
   "cell_type": "markdown",
   "metadata": {},
   "source": [
    "*I'm an astronomer (PhD from Univ. of Padova, Italy), working in Chile since 2009. During these last years I have experienced the exponential growth of data (and subsequent data-science applications) in astronomy, and in particular in my research field (stellar variability).*\n"
   ]
  },
  {
   "cell_type": "markdown",
   "metadata": {},
   "source": [
    "### This code calculate the sum of 1 + 1"
   ]
  },
  {
   "cell_type": "code",
   "execution_count": null,
   "metadata": {},
   "outputs": [],
   "source": [
    "1+1"
   ]
  },
  {
   "cell_type": "markdown",
   "metadata": {},
   "source": [
    "I hope that this assignment is going to be accepted even if the notebook is created in _Cognitive Class Labs_ and not in _IBM Watson Studio._  \n",
    "In fact:  \n",
    "\n",
    "1. [IBM Watson Studio](https://www.ibm.com/cloud/watson-studio) has been giving in the last few days some problems whenever creating a new project or a new notebook.\n",
    "2. Many Courserians have reported the issue in the Forums:  \n",
    "  * including myself.\n",
    "3. However, no solutions have been provided, yet.\n",
    "4. Let's hope the issue will be promptly solved!  \n",
    "\n",
    "> ~~They have just announced everything is back to normal!~~\n",
    "---"
   ]
  }
 ],
 "metadata": {
  "kernelspec": {
   "display_name": "Python 3",
   "language": "python",
   "name": "python3"
  },
  "language_info": {
   "codemirror_mode": {
    "name": "ipython",
    "version": 3
   },
   "file_extension": ".py",
   "mimetype": "text/x-python",
   "name": "python",
   "nbconvert_exporter": "python",
   "pygments_lexer": "ipython3",
   "version": "3.6.6"
  }
 },
 "nbformat": 4,
 "nbformat_minor": 2
}
